{
 "cells": [
  {
   "cell_type": "code",
   "execution_count": 24,
   "id": "e6434e54",
   "metadata": {},
   "outputs": [
    {
     "name": "stdout",
     "output_type": "stream",
     "text": [
      "Hola, obten tu video favorito\n",
      "Escuchando.......\n",
      "Estas buscano: Mago de Oz ?\n",
      "Los resultados deben aparecer en Youtube...\n"
     ]
    }
   ],
   "source": [
    "import speech_recognition as sr\n",
    "import webbrowser as wb\n",
    "import pyttsx3 \n",
    "def asistente_personal():\n",
    "    sr.Microphone(device_index = 0)\n",
    "    reconocimiento = sr.Recognizer()\n",
    "    #calibra el microfono\n",
    "    reconocimiento.energy_threshold=1000\n",
    "    reconocimiento.dynamic_energy_threshold = False\n",
    "        \n",
    "    with sr.Microphone() as source:\n",
    "        print(\"Escuchando.......\")        \n",
    "        audio = reconocimiento.listen(source)\n",
    "        \n",
    "        try:\n",
    "            texto = reconocimiento.recognize_google(audio, language='es-EC')#en-US\n",
    "            text1 = \"Tu busqueda en youtube es:\"\n",
    "            print(f\"Estas buscano: {texto} ?\")\n",
    "            navegador = \"https://www.youtube.com/\"\n",
    "            busqueda  = navegador + texto\n",
    "            engine.say(text1)\n",
    "            engine.runAndWait()\n",
    "            wb.open(busqueda)\n",
    "            \n",
    "        except TimeoutException as msg:\n",
    "            print(msg)\n",
    "        except WaitTimeoutError:\n",
    "            print(\"Te demoraste en tu solicitud\")\n",
    "            quit()\n",
    "        except LookupError:\n",
    "            print(\"No se encontro lo que buscabas.\")\n",
    "        else:\n",
    "            print(\"Los resultados deben aparecer en Youtube...\")\n",
    "\n",
    "print('Hola, obten tu video favorito')\n",
    "#Motor de voz\n",
    "engine = pyttsx3.init()\n",
    "engine.setProperty(\"rate\",150)\n",
    "#Mensaje que saldra por el motor de voz\n",
    "text = \"Hola, obten tu video favorito\"\n",
    "#Ejecucion del mensaje por voz\n",
    "engine.say(text)\n",
    "engine.runAndWait()\n",
    "#LLamada del asistente \n",
    "asistente_personal()\n"
   ]
  },
  {
   "cell_type": "code",
   "execution_count": 23,
   "id": "368c317d",
   "metadata": {},
   "outputs": [],
   "source": [
    "#Prueba para implementar mensaje en voz\n",
    "import pyttsx3 \n",
    "engine = pyttsx3.init()\n",
    "engine.setProperty(\"rate\",150)\n",
    "text = \"Hola mundo\"\n",
    "engine.say(text)\n",
    "text1 = \"Adios\"\n",
    "engine.say(text1)\n",
    "engine.runAndWait()"
   ]
  },
  {
   "cell_type": "code",
   "execution_count": null,
   "id": "563c2bfc",
   "metadata": {},
   "outputs": [],
   "source": []
  }
 ],
 "metadata": {
  "kernelspec": {
   "display_name": "Python 3 (ipykernel)",
   "language": "python",
   "name": "python3"
  },
  "language_info": {
   "codemirror_mode": {
    "name": "ipython",
    "version": 3
   },
   "file_extension": ".py",
   "mimetype": "text/x-python",
   "name": "python",
   "nbconvert_exporter": "python",
   "pygments_lexer": "ipython3",
   "version": "3.9.6"
  }
 },
 "nbformat": 4,
 "nbformat_minor": 5
}
